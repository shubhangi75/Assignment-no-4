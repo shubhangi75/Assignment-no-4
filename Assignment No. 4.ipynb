{
 "cells": [
  {
   "cell_type": "code",
   "execution_count": 1,
   "id": "2e54c330-1a94-44a6-b4a3-93d153676636",
   "metadata": {},
   "outputs": [],
   "source": [
    "#Q1. Explain Class and Object with respect to Object-Oriented Programming. Give a suitable example.\n",
    "# class : It is a collection of data members and member functions.\n",
    "#object: It is an real time entity. it is a instance of a class.\n",
    "#example: Vehicle is a class and BMW, Ferari is an object of a vehicle class."
   ]
  },
  {
   "cell_type": "code",
   "execution_count": 2,
   "id": "d8746d4f-6d6b-468f-984c-97533d1d83c2",
   "metadata": {},
   "outputs": [],
   "source": [
    "#Q2. Name the four pillars of OOPs.\n",
    "# 1. Abstraction\n",
    "# 2. Encapsulation\n",
    "# 3. Inheritance\n",
    "# 4. Polymorphism"
   ]
  },
  {
   "cell_type": "code",
   "execution_count": 3,
   "id": "dfc069c3-8169-4102-b111-acd214e31b18",
   "metadata": {},
   "outputs": [
    {
     "name": "stdout",
     "output_type": "stream",
     "text": [
      "Shubhi\n",
      "45\n"
     ]
    }
   ],
   "source": [
    "#Q3. Explain why the __init__() function is used. Give a suitable example.\n",
    "#All classes have a function called __init__(), which is always executed when the class is being initiated.\n",
    "#Example\n",
    "class Student:\n",
    "  def __init__(self, name, rno):\n",
    "    self.name = name\n",
    "    self.rno = rno\n",
    "\n",
    "p1 = Student(\"Shubhi\", 45)\n",
    "\n",
    "print(p1.name)\n",
    "print(p1.rno)"
   ]
  },
  {
   "cell_type": "code",
   "execution_count": 4,
   "id": "aaf5ac22-64be-4e29-b196-86c531558347",
   "metadata": {},
   "outputs": [],
   "source": [
    "#Q4. Why self is used in OOPs?\n",
    "#to refer to instance attributes and methods of the class.\n"
   ]
  },
  {
   "cell_type": "code",
   "execution_count": null,
   "id": "0bad94ff-533d-4011-8d26-4d7c837c7a38",
   "metadata": {},
   "outputs": [],
   "source": [
    "#Q5. What is inheritance? Give an example for each type of inheritance.\n",
    "#Inheritance is a mechanism in which one class acquires the property of another class.\n",
    "#types of inheritance\n",
    "# 1. Single inheritance: car inherit the properties of vehicle.\n",
    "# 2. Multiple Inhritance : child inherit the properties of father and mother\n",
    "# 3. Multilevel Inhritancer : son inherit the properties of father and father id derived from grandfather.\n",
    "# Hybrid Inhritance"
   ]
  }
 ],
 "metadata": {
  "kernelspec": {
   "display_name": "Python 3 (ipykernel)",
   "language": "python",
   "name": "python3"
  },
  "language_info": {
   "codemirror_mode": {
    "name": "ipython",
    "version": 3
   },
   "file_extension": ".py",
   "mimetype": "text/x-python",
   "name": "python",
   "nbconvert_exporter": "python",
   "pygments_lexer": "ipython3",
   "version": "3.10.8"
  }
 },
 "nbformat": 4,
 "nbformat_minor": 5
}
